{
  "cells": [
    {
      "cell_type": "markdown",
      "id": "44070596",
      "metadata": {
        "id": "44070596"
      },
      "source": [
        "# Introduction To Programming With Python\n",
        "\n",
        "Jupyter notebook by Amin Sakhaei, Pouya Taghipour\n",
        "\n",
        "Summer 2023\n",
        "\n",
        "## Introduction\n",
        "\n",
        "Python, a high-level and general-purpose programming language, stands out for its simplicity, readability, and extensive libraries. Widely used and versatile, it was created by Guido van Rossum and debuted in 1991.\n",
        "\n",
        "With applications ranging from image processing and signal processing to artificial intelligence and back-end development, Python programming showcases its strength. Its clean and concise syntax prioritizes readability, ultimately minimizing the burden of program maintenance, thus catering admirably to both newcomers and seasoned developers.\n",
        "\n",
        "Within this tutorial, you'll gain comprehensive insights into all fundamental Python concepts. By the tutorial's conclusion, you'll be well-prepared to embark on your very own Python programming projects.\n",
        "\n",
        "## Python Versions\n",
        "\n",
        "When selecting a Python version for a learning tutorial, it's generally advisable to opt for the latest stable release from the Python 3 series. The main branch is currently centered on Python 3.13, which signifies the language's future and exclusively incorporates new features. You can find the latest release for each Python version on the download page.\n",
        "https://www.python.org/downloads/\n",
        "\n",
        "Notably, Python 3.0 introduced numerous backward-incompatible changes to the language. As a result, code written for older versions might not function optimally under newer versions, and vice versa.\n",
        "\n",
        "(Python 3.8 marked the final version to provide support for Windows 7.)\n",
        "\n",
        "You can check your Python version at the command line by running python --version. (!python --version in Jupyter notebook)"
      ]
    },
    {
      "cell_type": "code",
      "execution_count": null,
      "id": "948d82de",
      "metadata": {
        "id": "948d82de",
        "outputId": "397ab6a0-d1a5-4dd2-d06b-1c578fbc5d8e"
      },
      "outputs": [
        {
          "name": "stdout",
          "output_type": "stream",
          "text": [
            "Python 3.9.13\n"
          ]
        }
      ],
      "source": [
        "!python --version"
      ]
    },
    {
      "cell_type": "markdown",
      "id": "3383aa1a",
      "metadata": {
        "id": "3383aa1a"
      },
      "source": [
        "## Start Programming with Python\n",
        "\n",
        "In Python, a variable acts as a named container for holding data values in the computer's memory. This allows you to manage, manipulate, and access data conveniently within your code.\n",
        "\n",
        "Variables in Python adhere to specific naming rules:\n",
        "\n",
        "- They must start with a letter (a-z, A-Z) or an underscore (_).\n",
        "- Subsequent characters can include letters, digits (0-9), or underscores.\n",
        "- Python is case-sensitive, distinguishing between myVar and myvar.\n",
        "- Reserved keywords (like if, while, for, etc.) cannot be used as variable names.\n",
        "- Python employs a dynamic typing system, meaning variable types are determined automatically based on the assigned value.\n",
        "\n",
        "In Python, a variety of data types cater to different data categories. Python boasts several fundamental built-in data types, including:\n",
        "\n",
        "1. Numeric Types:\n",
        "    int: Stores signed integers of unrestricted length.\n",
        "    float: Stores floating-point numbers with precision up to 15 decimal places.\n",
        "    complex: Stores complex numbers.\n",
        "\n",
        "3. Sequence Types:\n",
        "    str: Sequences of characters.\n",
        "    list: Mutable sequences that can hold items of different types.(It is the same as the array in C/C++)\n",
        "    tuples: Immutable sequences, often used to group related data.\n",
        "    range: Represents a sequence of numbers within a specified range.\n",
        "\n",
        "4. Binary Sequence Types: bytes, bytearray, memoryview\n",
        "    bytes: Represents unchangeable byte sequences for fixed binary data like images or audio. Created using b prefix (e.g.,    b'hello').\n",
        "    bytearray: Similar to \"bytes,\" but mutable. Suitable for dynamic manipulation of binary data, such as altering binary files.\n",
        "\n",
        "5. Binary Type:\n",
        "    memoryview: Provides an efficient view and manipulation of existing data, without copying. Beneficial for managing large datasets and binary tasks, enabling streamlined access and changes to data's memory representation.\n",
        "\n",
        "6. Mapping Type:\n",
        "    dict: Stores key-value pairs for organized data storage and quick access. Keys are unique identifiers linked to respective values. Dictionaries are mutable, allowing additions, modifications, and removals of key-value pairs.\n",
        "\n",
        "7. Boolean Type: bool\n",
        "    bool: Represents truth values, which are either True or False. Integral for logical decisions, control flow, and comparisons within Python programs.\n",
        "    \n",
        "    \n",
        "8. Set data Types:\n",
        "    set: Represents a collection of distinct elements in an unordered manner. Primarily used for managing ***unique*** values and offering mathematical operations like union and intersection. Sets are mutable and efficient for membership checks.\n",
        "    frozenset: Represents a collection of distinct elements in an unordered manner. Primarily used for managing unique values and offering mathematical operations like union and intersection. Sets are mutable and efficient for membership checks.\n",
        "\n",
        "9. None Type:\n",
        "    NoneType: Represents the absence of a value or a null value.\n",
        "    \n",
        "You can get the data type of any object by using the type() function:"
      ]
    },
    {
      "cell_type": "code",
      "execution_count": null,
      "id": "dbed69e1",
      "metadata": {
        "id": "dbed69e1",
        "outputId": "849d105f-b9bc-4a02-dbb0-3183c10d4c1f"
      },
      "outputs": [
        {
          "name": "stdout",
          "output_type": "stream",
          "text": [
            "<class 'int'>\n"
          ]
        }
      ],
      "source": [
        "x = 2023\n",
        "print(type(x))"
      ]
    },
    {
      "cell_type": "code",
      "execution_count": null,
      "id": "e8b4c7fa",
      "metadata": {
        "id": "e8b4c7fa"
      },
      "outputs": [],
      "source": [
        "x = -3                                       # Data Type: int\n",
        "x = 99.123                                   # Data Type: float\n",
        "x = 6 + 1j                                   # Data Type: complex\n",
        "x = \"Hello World!\"                           # Data Type: str\n",
        "x = [\"a\", 1, 2]                              # Data Type: list\n",
        "x = (1, \"a\", 2)                              # Data Type: tuple\n",
        "x = range(11)                                # Data Type: range\n",
        "x = b\"Hello\"                                 # Data Type: bytes\n",
        "x = bytearray(8)                             # Data Type: bytearray\n",
        "x = memoryview(bytes(8))                     # Data Type: memoryview\n",
        "x = {\"name\" : \"Python\", \"age\" : 32}          # Data Type: dict\n",
        "x = True                                     # Data Type: bool\n",
        "x = {\"python\", \"matlab\", \"c\"}                # Data Type: set\n",
        "x = frozenset({\"python\", \"matlab\", \"c\"})     # Data Type: frozenset\n",
        "x = None                                     # Data Type: NoneType"
      ]
    },
    {
      "cell_type": "markdown",
      "id": "50cc3c29",
      "metadata": {
        "id": "50cc3c29"
      },
      "source": [
        "## Mathematical Operators\n",
        "\n",
        "Mathematical operators within Python are symbol representations that execute arithmetic and mathematical actions on numerical data. They empower you to conduct calculations, comparisons, and other operations within your Python scripts. These operators are versatile, compatible with both integers and floating-point numbers."
      ]
    },
    {
      "cell_type": "code",
      "execution_count": null,
      "id": "90ab7b6d",
      "metadata": {
        "id": "90ab7b6d"
      },
      "outputs": [],
      "source": [
        "x = 4\n",
        "\n",
        "addition = x + 2                             # 4 + 2 = 6\n",
        "subtraction = x - 2                          # 4 - 2 = 2\n",
        "exponentiation = x ** 2                      # 4^2 = 16\n",
        "multiplication = x * 2                       # 4 * 2 = 8\n",
        "division = x / 2                             # 4 / 2 = 2\n",
        "remainder = x % 2                            # 4 % 2 = 0\n",
        "floor_division = x // 2                      # 4 // 2 = 2"
      ]
    },
    {
      "cell_type": "markdown",
      "id": "7c7e191d",
      "metadata": {
        "id": "7c7e191d"
      },
      "source": [
        "## Comparison Operators\n",
        "\n",
        "Comparison operators in Python are symbolic tools employed to assess values and establish connections between them. These operators equip you with the ability to assess conditions, conduct comparisons, and direct your program's progression by relying on the results of these comparisons."
      ]
    },
    {
      "cell_type": "code",
      "execution_count": 1,
      "id": "df3c3a66",
      "metadata": {
        "colab": {
          "base_uri": "https://localhost:8080/"
        },
        "id": "df3c3a66",
        "outputId": "42fef00f-ee4e-4218-904b-d8230248d1fe"
      },
      "outputs": [
        {
          "output_type": "stream",
          "name": "stdout",
          "text": [
            "False\n",
            "True\n",
            "False\n",
            "True\n",
            "False\n",
            "True\n"
          ]
        }
      ],
      "source": [
        "x = 2\n",
        "y = 5\n",
        "\n",
        "print(x > y)                                # Greater than\n",
        "print(x < y)                                # Less than\n",
        "print(x >= y)                               # Greater or equal to\n",
        "print(x <= y)                               # Less or equal to\n",
        "print(x == y)                               # Equal to\n",
        "print(x != y)                               # Not equal to"
      ]
    },
    {
      "cell_type": "markdown",
      "id": "ed7a1cb4",
      "metadata": {
        "id": "ed7a1cb4"
      },
      "source": [
        "## Logical Operators\n",
        "\n",
        "Logical operators in Python are symbols used to combine or manipulate Boolean values, which represent truth or falsehood. These operators enable you to execute logical operations, make determinations based on conditions, and govern the course of your program's execution.\n",
        "\n",
        "Logical AND ('and'): Returns True if both statements are true.\n",
        "Logical OR ('or'): \tReturns True if one of the statements is true.\n",
        "Logical NOT ('not'): Reverse the result, returns False if the result is true."
      ]
    },
    {
      "cell_type": "code",
      "execution_count": null,
      "id": "073f6091",
      "metadata": {
        "scrolled": true,
        "id": "073f6091",
        "outputId": "6fb9fcab-d982-4ab8-e927-66bf395a4860"
      },
      "outputs": [
        {
          "name": "stdout",
          "output_type": "stream",
          "text": [
            "True\n",
            "True\n",
            "False\n"
          ]
        }
      ],
      "source": [
        "x = 5\n",
        "\n",
        "print(x > 2 and x < 10)\n",
        "print(x < 2 or x > 4)\n",
        "print(not(x > 4 and x < 10))"
      ]
    },
    {
      "cell_type": "markdown",
      "id": "a67fa95e",
      "metadata": {
        "id": "a67fa95e"
      },
      "source": [
        "## Input Function\n",
        "\n",
        "The input() function plays a crucial role in obtaining interactive user input during the execution of a program. This function prompts the user for input and records the provided information as a string.\n",
        "\n",
        "***Remember, the input received is consistently treated as a string, regardless of whether the user enters numeric values or other types of input. Should you require the input to be treated as a different data type (such as an integer or float), explicit type conversion is necessary.***"
      ]
    },
    {
      "cell_type": "code",
      "execution_count": null,
      "id": "7f8a04ff",
      "metadata": {
        "id": "7f8a04ff",
        "outputId": "7eb4fd55-e470-4cfd-833c-71d97392e4f0"
      },
      "outputs": [
        {
          "name": "stdout",
          "output_type": "stream",
          "text": [
            "Enter your name:World\n",
            "Hello World!\n"
          ]
        }
      ],
      "source": [
        "name = input(\"Enter your name:\")\n",
        "print(f\"Hello {name}!\")"
      ]
    },
    {
      "cell_type": "code",
      "execution_count": null,
      "id": "e92a19fa",
      "metadata": {
        "id": "e92a19fa",
        "outputId": "2cada36a-f904-4f96-8a21-d25d64914d29"
      },
      "outputs": [
        {
          "name": "stdout",
          "output_type": "stream",
          "text": [
            "Enter radius:3\n",
            "The area is =  28.26\n"
          ]
        }
      ],
      "source": [
        "#Exalmple\n",
        "#calculate the area of a circle\n",
        "\n",
        "r = input(\"Enter radius:\")\n",
        "r = float(r)\n",
        "a = 3.14 * (r**2)\n",
        "print(\"The area is = \", a)"
      ]
    },
    {
      "cell_type": "markdown",
      "source": [
        "### Another example is:"
      ],
      "metadata": {
        "id": "lZ1SmAjRCrvH"
      },
      "id": "lZ1SmAjRCrvH"
    },
    {
      "cell_type": "code",
      "source": [
        "Age = int(input(\"Enter your age: \"))\n",
        "BroAge = int(input(\"Enter your brother's age: \"))\n",
        "\n",
        "print(\"I'm\", Age, \"and my brother is\", BroAge)"
      ],
      "metadata": {
        "colab": {
          "base_uri": "https://localhost:8080/"
        },
        "id": "lQDpGR60DjhN",
        "outputId": "6db22b31-b436-42a7-a71e-759178890f2e"
      },
      "id": "lQDpGR60DjhN",
      "execution_count": 3,
      "outputs": [
        {
          "output_type": "stream",
          "name": "stdout",
          "text": [
            "Enter your age: 20\n",
            "Enter your brother's age: 24\n",
            "I'm 20 and my brother is 24\n"
          ]
        }
      ]
    },
    {
      "cell_type": "markdown",
      "id": "f34c1f32",
      "metadata": {
        "id": "f34c1f32"
      },
      "source": [
        "## Comments\n",
        "\n",
        "Comments in Python are lines of text embedded within your code that don't contribute to the program's execution. They play the role of explanations, annotations, or notes to enhance the comprehensibility of your code for both others and your future self. These comments offer insights into specific segments of code, increasing readability, explaining the code to others, aiding in understanding after a long time, incorporating resources, and facilitating the re-use of existing code. Importantly, comments have no impact on the execution of your program since the Python interpreter disregards them during runtime.\n",
        "\n",
        "There are two types of comments in Python:\n",
        "***1. Single-line Comments:*** Designed for annotating single lines of code, these comments commence with the # symbol and extend to the line's conclusion.\n",
        "***2. Multi-line Comments (Docstrings):*** Although not genuine comments in the strictest sense, multi-line strings encompassed by triple quotes (''' or \"\"\") frequently serve as docstrings. These docstrings supply multi-line comments for functions, classes, or modules, offering extensive explanations.\n",
        "Also, to comment multiple lines of code, just select the code you want to comment and press Ctrl+/ on PC or Cmd+/ on Mac. This keyboard shortcut will add a comment symbol (#) to the beginning of each selected line, effectively commenting out the entire block."
      ]
    },
    {
      "cell_type": "code",
      "execution_count": null,
      "id": "47029e05",
      "metadata": {
        "id": "47029e05"
      },
      "outputs": [],
      "source": [
        "#This is a \"Single-line Comment\"\n",
        "\n",
        "\"\"\"\n",
        "Multi\n",
        "line\n",
        "comment\n",
        "\"\"\""
      ]
    },
    {
      "cell_type": "markdown",
      "id": "5d460a73",
      "metadata": {
        "id": "5d460a73"
      },
      "source": [
        "## Conditional Statements\n",
        "\n",
        "Conditional statements (if, else, and elif) are fundamental programming constructs that allow you to control the flow of your program based on conditions that you specify. They provide a way to make decisions in your program and execute different code based on those decisions.\n",
        "\n",
        "***1. if Statement:*** Utilized to execute a code block when a given condition is true.\n",
        "\n",
        "***2. elif Statement:*** Offers the ability to check additional conditions if preceding if or elif conditions are false.\n",
        "\n",
        "***3. else Statement:*** Provides a code block to execute when no preceding conditions in an if or elif statement are true.\n",
        "\n",
        "Using the elif statement in Python is beneficial when you need to evaluate multiple conditions in a controlled manner. While the if statement allows you to execute a block of code if a single condition is true, the elif statement helps you consider additional conditions only if the previous conditions are false. This can lead to more efficient and organized code, as well as clearer logic."
      ]
    },
    {
      "cell_type": "code",
      "execution_count": null,
      "id": "0e97920d",
      "metadata": {
        "id": "0e97920d",
        "outputId": "e6be8d0d-14ce-49f7-e2e5-93b95353a8ea"
      },
      "outputs": [
        {
          "name": "stdout",
          "output_type": "stream",
          "text": [
            "Enter your GPA:12\n",
            "C\n"
          ]
        }
      ],
      "source": [
        "#Convert Your GPA to a Alphabet Scale\n",
        "\n",
        "gpa = float(input(\"Enter your GPA:\"))\n",
        "if gpa > 15 and gpa <=20:\n",
        "    print(\"A\")\n",
        "elif gpa >= 14:\n",
        "    print(\"B\")\n",
        "elif gpa >= 12:\n",
        "    print(\"C\")\n",
        "elif gpa >= 10:\n",
        "    print(\"D\")\n",
        "elif gpa >= 0:\n",
        "    print(\"F\")\n",
        "else:\n",
        "    print(\"The entered value is not acceptable.\")"
      ]
    },
    {
      "cell_type": "code",
      "execution_count": null,
      "id": "b49cd1f7",
      "metadata": {
        "id": "b49cd1f7",
        "outputId": "8feceb49-fc0b-4ff8-9d68-f4fa3517ca69"
      },
      "outputs": [
        {
          "name": "stdout",
          "output_type": "stream",
          "text": [
            "Enter your GPA:-1\n",
            "The entered value is not acceptable.\n"
          ]
        }
      ],
      "source": [
        "#Convert Your GPA to a Alphabet Scale\n",
        "\n",
        "gpa = float(input(\"Enter your GPA:\"))\n",
        "if gpa > 15 and gpa <=20:\n",
        "    print(\"A\")\n",
        "if gpa >= 14 and gpa <= 15.99:\n",
        "    print(\"B\")\n",
        "if gpa >= 12 and gpa <= 13.99:\n",
        "    print(\"C\")\n",
        "if gpa >= 10 and gpa <= 11.99:\n",
        "    print(\"D\")\n",
        "if gpa >= 0 and  gpa < 10:\n",
        "    print(\"F\")\n",
        "if gpa < 0 or gpa > 20:\n",
        "    print(\"The entered value is not acceptable.\")"
      ]
    },
    {
      "cell_type": "markdown",
      "id": "062a05e4",
      "metadata": {
        "id": "062a05e4"
      },
      "source": [
        "## Working with Functions in Python\n",
        "\n",
        "Working with functions in Python is essential for organizing and modularizing your code. Functions are blocks of reusable code that perform specific tasks. They help improve code readability, reusability, and maintainability.\n",
        "\n",
        "***- Creating a Function:*** Creating functions is essential for modular code. Functions are defined using def followed by the function name and parameters."
      ]
    },
    {
      "cell_type": "code",
      "execution_count": null,
      "id": "fa2903c1",
      "metadata": {
        "id": "fa2903c1"
      },
      "outputs": [],
      "source": [
        "def greet(name):\n",
        "    print(f\"Hello, {name}!\")"
      ]
    },
    {
      "cell_type": "markdown",
      "id": "538b04cd",
      "metadata": {
        "id": "538b04cd"
      },
      "source": [
        "***- Calling a Function:*** To execute a function's code, call it by its name followed by parentheses."
      ]
    },
    {
      "cell_type": "code",
      "execution_count": null,
      "id": "88e6a118",
      "metadata": {
        "id": "88e6a118",
        "outputId": "a1cd24ad-20c8-4994-e818-ea2decc102e2"
      },
      "outputs": [
        {
          "name": "stdout",
          "output_type": "stream",
          "text": [
            "Hello, World!\n"
          ]
        }
      ],
      "source": [
        "greet(\"World\")"
      ]
    },
    {
      "cell_type": "markdown",
      "id": "998a9c95",
      "metadata": {
        "id": "998a9c95"
      },
      "source": [
        "***- Arguments:*** Arguments are values passed to a function. They provide inputs for the function's operation.\n",
        "\n",
        "***- Parameters or Arguments?*** Parameters are placeholders in the function definition, while arguments are the values provided when calling the function.\n",
        "\n",
        "***- Return Values:*** Functions in Python can return values using the return statement. The returned value can be used for further processing within your program.\n",
        "\n",
        "***- Number of Arguments:*** Functions can accept varying numbers of arguments, depending on their design.\n",
        "\n"
      ]
    },
    {
      "cell_type": "code",
      "execution_count": null,
      "id": "81e13d5e",
      "metadata": {
        "id": "81e13d5e",
        "outputId": "e0d58f49-109c-4b43-9949-6dd6ea07020e"
      },
      "outputs": [
        {
          "name": "stdout",
          "output_type": "stream",
          "text": [
            "Hello, World!\n",
            "22\n"
          ]
        }
      ],
      "source": [
        "def sum(x, y, z):\n",
        "    return x + y + z\n",
        "\n",
        "a = 8\n",
        "b = 3\n",
        "c = 11\n",
        "print(sum(a, b ,c))   #Arguments"
      ]
    },
    {
      "cell_type": "markdown",
      "id": "402bef93",
      "metadata": {
        "id": "402bef93"
      },
      "source": [
        "***- Arbitrary Arguments, *args:*** Using *args allows you to pass a variable number of arguments to a function."
      ]
    },
    {
      "cell_type": "code",
      "execution_count": null,
      "id": "173d03a2",
      "metadata": {
        "id": "173d03a2",
        "outputId": "2c043c1f-a8eb-447e-a220-78dc2015a828"
      },
      "outputs": [
        {
          "name": "stdout",
          "output_type": "stream",
          "text": [
            "('year', 'month', 'date')\n"
          ]
        }
      ],
      "source": [
        "def calender(*args):\n",
        "    print(args)\n",
        "\n",
        "calender(\"year\", \"month\", \"date\")"
      ]
    },
    {
      "cell_type": "markdown",
      "id": "17c21a8d",
      "metadata": {
        "id": "17c21a8d"
      },
      "source": [
        "***- Keyword Arguments:*** Keyword arguments are passed using parameter names, offering explicit argument assignment."
      ]
    },
    {
      "cell_type": "code",
      "execution_count": null,
      "id": "7d09432e",
      "metadata": {
        "id": "7d09432e",
        "outputId": "03caa48e-e38c-41d0-c480-c3a7553f6b6b"
      },
      "outputs": [
        {
          "name": "stdout",
          "output_type": "stream",
          "text": [
            "Today is August 16, 2023.\n"
          ]
        }
      ],
      "source": [
        "def calender(year, month, date):\n",
        "    print(f\"Today is {month} {date}, {year}.\")\n",
        "\n",
        "calender(date = 16, year = \"2023\", month = \"August\")"
      ]
    },
    {
      "cell_type": "markdown",
      "id": "523f2c31",
      "metadata": {
        "id": "523f2c31"
      },
      "source": [
        "***- The pass Statement:*** The pass statement serves as a placeholder in situations where syntax requires a statement, but you don't want any specific code to execute."
      ]
    },
    {
      "cell_type": "code",
      "execution_count": null,
      "id": "0fdc2d5e",
      "metadata": {
        "id": "0fdc2d5e"
      },
      "outputs": [],
      "source": [
        "def placeholder_function():\n",
        "    pass  #No code to execute here"
      ]
    },
    {
      "cell_type": "markdown",
      "id": "f9765646",
      "metadata": {
        "id": "f9765646"
      },
      "source": [
        "***- Recursion:*** Recursion involves a function calling itself to solve a problem. It's suitable for tasks that can be broken down into smaller, similar sub-problems."
      ]
    },
    {
      "cell_type": "code",
      "execution_count": null,
      "id": "ec36785e",
      "metadata": {
        "id": "ec36785e",
        "outputId": "199bb89a-ec1a-4ba7-d7ba-c959cbcdc114"
      },
      "outputs": [
        {
          "name": "stdout",
          "output_type": "stream",
          "text": [
            "5040\n"
          ]
        }
      ],
      "source": [
        "def factorial(x):\n",
        "    if x == 1:\n",
        "        return 1\n",
        "    else:\n",
        "        return x * factorial(x - 1)\n",
        "\n",
        "print(factorial(7))"
      ]
    },
    {
      "cell_type": "markdown",
      "id": "04ac9b6f",
      "metadata": {
        "id": "04ac9b6f"
      },
      "source": [
        "## Python Repeat Loops\n",
        "\n",
        "\n",
        "Loops are essential constructs in programming that allow you to execute a block of code repeatedly. In Python, there are two main types of loops: while loops and for loops.\n",
        "\n",
        "***1. While:*** In python, a while loop is used to execute a block of statements repeatedly until a given condition is satisfied. And when the condition becomes false, the line immediately after the loop in the program is executed.\n",
        "\n",
        "while expression:\n",
        "    statement(s)\n",
        "    \n",
        "***2. For:*** For loops are used for sequential traversal. For example: traversing a list or string or array etc. In Python, there is “for in” loop which is similar to for each loop in other languages. Let us learn how to use for in loop for sequential traversals.\n",
        "\n",
        "for iterator_var in sequence:\n",
        "    statements(s)\n",
        "\n",
        "Converting between different loop types is always possible, as each loop type can be expressed in terms of the other. This demonstrates the equivalent expressive power of these loop structures. So you can always convert a for loop to a while loop.\n",
        "\n",
        "Example using loops to print numbers from 1 to 10:"
      ]
    },
    {
      "cell_type": "code",
      "execution_count": null,
      "id": "2746fd73",
      "metadata": {
        "id": "2746fd73",
        "outputId": "c03ae32e-ceed-447f-c237-e266926233bc"
      },
      "outputs": [
        {
          "name": "stdout",
          "output_type": "stream",
          "text": [
            "1\n",
            "2\n",
            "3\n",
            "4\n",
            "5\n",
            "6\n",
            "7\n",
            "8\n",
            "9\n",
            "10\n"
          ]
        }
      ],
      "source": [
        "#using while\n",
        "\n",
        "n = 1\n",
        "while n < 11:\n",
        "    print(n)\n",
        "    n = n + 1"
      ]
    },
    {
      "cell_type": "code",
      "execution_count": null,
      "id": "b6548f59",
      "metadata": {
        "id": "b6548f59",
        "outputId": "2cb95dcf-1adc-4d0d-9f7f-1c4105d1048f"
      },
      "outputs": [
        {
          "name": "stdout",
          "output_type": "stream",
          "text": [
            "0\n",
            "1\n",
            "2\n",
            "3\n",
            "4\n",
            "5\n",
            "6\n",
            "7\n",
            "8\n",
            "9\n",
            "10\n"
          ]
        }
      ],
      "source": [
        "#using for\n",
        "\n",
        "for n in range (11):\n",
        "    print(n)"
      ]
    },
    {
      "cell_type": "markdown",
      "id": "30adc04e",
      "metadata": {
        "id": "30adc04e"
      },
      "source": [
        "***Nested Loops:*** A nested loop in Python is a loop inside another loop. This construct allows you to perform iterations within iterations, which is particularly useful for working with two-dimensional data structures like matrices or grids.\n",
        "\n",
        "Example of how you can create a 3x3 matrix with with numbers taken from the user."
      ]
    },
    {
      "cell_type": "code",
      "execution_count": null,
      "id": "951f1370",
      "metadata": {
        "id": "951f1370",
        "outputId": "d9fc73f7-4a6e-420e-d09f-46e0b88bc126"
      },
      "outputs": [
        {
          "name": "stdout",
          "output_type": "stream",
          "text": [
            "Enter number at position (0, 0): 11\n",
            "Enter number at position (0, 1): 2\n",
            "Enter number at position (0, 2): 5\n",
            "Enter number at position (1, 0): 0\n",
            "Enter number at position (1, 1): -1\n",
            "Enter number at position (1, 2): 7\n",
            "Enter number at position (2, 0): 21\n",
            "Enter number at position (2, 1): 56\n",
            "Enter number at position (2, 2): 2\n"
          ]
        },
        {
          "data": {
            "text/plain": [
              "[[11, 2, 5], [0, -1, 7], [21, 56, 2]]"
            ]
          },
          "execution_count": 83,
          "metadata": {},
          "output_type": "execute_result"
        }
      ],
      "source": [
        "matrix = [[0, 0, 0], [0, 0, 0], [0, 0, 0]]\n",
        "\n",
        "for i in range (3):\n",
        "    for j in range(3):\n",
        "        x = int(input(f\"Enter number at position ({i}, {j}): \"))\n",
        "        matrix[i][j] = x\n",
        "\n",
        "matrix"
      ]
    },
    {
      "cell_type": "markdown",
      "id": "004de6a7",
      "metadata": {
        "id": "004de6a7"
      },
      "source": [
        "***Break Statement:*** The break statement in Python is used to exit a loop prematurely, regardless of whether the loop's condition has been fully satisfied. When the break statement is encountered within a loop, the loop immediately terminates, and the program execution continues with the next statement after the loop."
      ]
    },
    {
      "cell_type": "code",
      "execution_count": null,
      "id": "a37600e9",
      "metadata": {
        "id": "a37600e9",
        "outputId": "b99c4ca7-c734-4916-f410-c5958428c9e8"
      },
      "outputs": [
        {
          "name": "stdout",
          "output_type": "stream",
          "text": [
            "0\n",
            "1\n",
            "2\n",
            "3\n",
            "4\n",
            "5\n"
          ]
        }
      ],
      "source": [
        "for i in range (1000):\n",
        "\n",
        "    if i > 5:\n",
        "        break\n",
        "\n",
        "    print(i)"
      ]
    },
    {
      "cell_type": "markdown",
      "source": [
        "## The research section:"
      ],
      "metadata": {
        "id": "2QpbDzf9FA_A"
      },
      "id": "2QpbDzf9FA_A"
    },
    {
      "cell_type": "markdown",
      "source": [
        "* What is \"do.....while\" loop?\n",
        "* What is the use of this tool in programming?\n",
        "* How to make a \"do....while\" loop in Python?"
      ],
      "metadata": {
        "id": "6pVYD9o2FRmI"
      },
      "id": "6pVYD9o2FRmI"
    },
    {
      "cell_type": "markdown",
      "source": [
        "### Fill the section below to show how to make this loop in python:"
      ],
      "metadata": {
        "id": "uNo2qjlWF1HW"
      },
      "id": "uNo2qjlWF1HW"
    },
    {
      "cell_type": "code",
      "source": [
        "# Start programming here:\n",
        "\n",
        "\n",
        "\n",
        "\n",
        "\n",
        "\n",
        "\n",
        "# End programming here."
      ],
      "metadata": {
        "id": "PdTNq_NGGH5f"
      },
      "id": "PdTNq_NGGH5f",
      "execution_count": null,
      "outputs": []
    }
  ],
  "metadata": {
    "kernelspec": {
      "display_name": "Python 3 (ipykernel)",
      "language": "python",
      "name": "python3"
    },
    "language_info": {
      "codemirror_mode": {
        "name": "ipython",
        "version": 3
      },
      "file_extension": ".py",
      "mimetype": "text/x-python",
      "name": "python",
      "nbconvert_exporter": "python",
      "pygments_lexer": "ipython3",
      "version": "3.9.13"
    },
    "colab": {
      "provenance": []
    }
  },
  "nbformat": 4,
  "nbformat_minor": 5
}