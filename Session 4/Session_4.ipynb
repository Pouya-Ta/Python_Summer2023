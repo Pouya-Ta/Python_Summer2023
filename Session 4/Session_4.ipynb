{
 "cells": [
  {
   "cell_type": "markdown",
   "metadata": {
    "id": "DPcMcB2DCI6r"
   },
   "source": [
    "# Session 4\n",
    "\n",
    "## Strings\n",
    "Strings in python are surrounded by either single quotation marks, or double quotation marks.\n",
    "\n",
    "'hello' is the same as \"hello\".\n",
    "\n",
    "You can display a string literal with the print() function:"
   ]
  },
  {
   "cell_type": "markdown",
   "metadata": {
    "id": "eujYzmtDC5RS"
   },
   "source": [
    "### <span style='color:Blue'>Example </span>\n"
   ]
  },
  {
   "cell_type": "code",
   "execution_count": 2,
   "metadata": {
    "id": "hVBAJ30gCrAU"
   },
   "outputs": [
    {
     "name": "stdout",
     "output_type": "stream",
     "text": [
      "Hello\n",
      "Hello\n"
     ]
    }
   ],
   "source": [
    "print(\"Hello\")\n",
    "print('Hello')"
   ]
  },
  {
   "cell_type": "markdown",
   "metadata": {
    "id": "FoMDPdA9Ctyp"
   },
   "source": [
    "## Assign String to a Variable\n",
    "Assigning a string to a variable is done with the variable name followed by an equal sign and the string:"
   ]
  },
  {
   "cell_type": "markdown",
   "metadata": {
    "id": "q4p2VuHCC15q"
   },
   "source": [
    "### <span style='color:Blue'>Example </span>\n"
   ]
  },
  {
   "cell_type": "code",
   "execution_count": 3,
   "metadata": {
    "id": "0u7l7f9pCy8C"
   },
   "outputs": [
    {
     "name": "stdout",
     "output_type": "stream",
     "text": [
      "Hello\n"
     ]
    }
   ],
   "source": [
    "a = \"Hello\"\n",
    "print(a)"
   ]
  },
  {
   "cell_type": "markdown",
   "metadata": {
    "id": "mNEe_KJuC1UB"
   },
   "source": [
    "## Multiline Strings\n",
    "You can assign a multiline string to a variable by using three quotes:"
   ]
  },
  {
   "cell_type": "markdown",
   "metadata": {
    "id": "kHK9a5GFDADR"
   },
   "source": [
    "### <span style='color:Blue'>Example </span>\n",
    "You can use three double quotes:"
   ]
  },
  {
   "cell_type": "code",
   "execution_count": 4,
   "metadata": {
    "id": "rZX_CdTODkaJ"
   },
   "outputs": [
    {
     "name": "stdout",
     "output_type": "stream",
     "text": [
      "Lorem ipsum dolor sit amet,\n",
      "consectetur adipiscing elit,\n",
      "sed do eiusmod tempor incididunt\n",
      "ut labore et dolore magna aliqua.\n"
     ]
    }
   ],
   "source": [
    "a = \"\"\"Lorem ipsum dolor sit amet,\n",
    "consectetur adipiscing elit,\n",
    "sed do eiusmod tempor incididunt\n",
    "ut labore et dolore magna aliqua.\"\"\"\n",
    "print(a)"
   ]
  },
  {
   "cell_type": "markdown",
   "metadata": {
    "id": "6B8ZjyFbET61"
   },
   "source": [
    "Or three single quotes:\n",
    "\n",
    "### <span style='color:Blue'>Example </span>\n"
   ]
  },
  {
   "cell_type": "code",
   "execution_count": 5,
   "metadata": {
    "id": "yKhHUwLhEajx"
   },
   "outputs": [
    {
     "name": "stdout",
     "output_type": "stream",
     "text": [
      "Lorem ipsum dolor sit amet,\n",
      "consectetur adipiscing elit,\n",
      "sed do eiusmod tempor incididunt\n",
      "ut labore et dolore magna aliqua.\n"
     ]
    }
   ],
   "source": [
    "a = '''Lorem ipsum dolor sit amet,\n",
    "consectetur adipiscing elit,\n",
    "sed do eiusmod tempor incididunt\n",
    "ut labore et dolore magna aliqua.'''\n",
    "print(a)"
   ]
  },
  {
   "cell_type": "markdown",
   "metadata": {
    "id": "ynMbeIrQuQTp"
   },
   "source": [
    "## Strings are Arrays\n",
    "Like many other popular programming languages, strings in Python are arrays of bytes representing unicode characters.\n",
    "\n",
    "However, Python does not have a character data type, a single character is simply a string with a length of 1.\n",
    "\n",
    "Square brackets can be used to access elements of the string."
   ]
  },
  {
   "cell_type": "code",
   "execution_count": 6,
   "metadata": {
    "id": "mjDtl8xLuUGo"
   },
   "outputs": [
    {
     "name": "stdout",
     "output_type": "stream",
     "text": [
      "e\n"
     ]
    }
   ],
   "source": [
    "a = \"Hello, World!\"\n",
    "print(a[1])"
   ]
  },
  {
   "cell_type": "markdown",
   "metadata": {
    "id": "ntDQeMztuV6p"
   },
   "source": [
    "## Looping Through a String\n",
    "Since strings are arrays, we can loop through the characters in a string, with a for loop."
   ]
  },
  {
   "cell_type": "code",
   "execution_count": 7,
   "metadata": {
    "id": "5BnC-WY1uZ8r"
   },
   "outputs": [
    {
     "name": "stdout",
     "output_type": "stream",
     "text": [
      "b\n",
      "a\n",
      "n\n",
      "a\n",
      "n\n",
      "a\n"
     ]
    }
   ],
   "source": [
    "for x in \"banana\":\n",
    "  print(x)"
   ]
  },
  {
   "cell_type": "markdown",
   "metadata": {},
   "source": []
  },
  {
   "cell_type": "markdown",
   "metadata": {
    "id": "TLvAYrViuurZ"
   },
   "source": [
    "## String Length\n",
    "To get the length of a string, use the len() function"
   ]
  },
  {
   "cell_type": "code",
   "execution_count": 8,
   "metadata": {
    "id": "e-gkrfNFuxdB"
   },
   "outputs": [
    {
     "name": "stdout",
     "output_type": "stream",
     "text": [
      "13\n"
     ]
    }
   ],
   "source": [
    "a = \"Hello, World!\"\n",
    "print(len(a))"
   ]
  },
  {
   "cell_type": "markdown",
   "metadata": {
    "id": "D0yLiUXNuzFR"
   },
   "source": [
    "## Check String\n",
    "To check if a certain phrase or character is present in a string, we can use the keyword in."
   ]
  },
  {
   "cell_type": "code",
   "execution_count": 11,
   "metadata": {
    "id": "23t9csRxu7KA"
   },
   "outputs": [
    {
     "name": "stdout",
     "output_type": "stream",
     "text": [
      "True\n"
     ]
    }
   ],
   "source": [
    "txt = \"The best things in life are free!\"\n",
    "print(\"free\" in txt)"
   ]
  },
  {
   "cell_type": "code",
   "execution_count": 16,
   "metadata": {
    "id": "fPwVKYjdu8xh"
   },
   "outputs": [
    {
     "name": "stdout",
     "output_type": "stream",
     "text": [
      "Yes, 'free' is present.\n",
      "hello 'ali' chetori\n"
     ]
    }
   ],
   "source": [
    "txt = \"The best things in life are free!\"\n",
    "if \"free\" in txt:\n",
    "  print(\"Yes, 'free' is present.\")\n",
    "\n",
    "print('hello \\'ali\\' chetori')"
   ]
  },
  {
   "cell_type": "markdown",
   "metadata": {
    "id": "RutM7JHNu-jy"
   },
   "source": [
    "## Check if NOT?"
   ]
  },
  {
   "cell_type": "code",
   "execution_count": 17,
   "metadata": {
    "id": "3NE2eYWvvCcJ"
   },
   "outputs": [
    {
     "name": "stdout",
     "output_type": "stream",
     "text": [
      "True\n"
     ]
    }
   ],
   "source": [
    "txt = \"The best things in life are free!\"\n",
    "print(\"expensive\" not in txt)"
   ]
  },
  {
   "cell_type": "code",
   "execution_count": 18,
   "metadata": {
    "id": "HWBrLZfZvEMx"
   },
   "outputs": [
    {
     "name": "stdout",
     "output_type": "stream",
     "text": [
      "No, 'expensive' is NOT present.\n"
     ]
    }
   ],
   "source": [
    "txt = \"The best things in life are free!\"\n",
    "if \"expensive\" not in txt:\n",
    "  print(\"No, 'expensive' is NOT present.\")"
   ]
  },
  {
   "cell_type": "markdown",
   "metadata": {
    "id": "poLmcoE-Ee4y"
   },
   "source": [
    "## Slicing\n",
    "You can return a range of characters by using the slice syntax.\n",
    "\n",
    "Specify the start index and the end index, separated by a colon, to return a part of the string.\n",
    "\n",
    "### <span style='color:Blue'>Example </span>\n",
    "\n",
    "\n",
    "Get the characters from position 2 to position 5 (not included):"
   ]
  },
  {
   "cell_type": "code",
   "execution_count": null,
   "metadata": {
    "id": "sVaPhCOQEt_S"
   },
   "outputs": [],
   "source": [
    "b = \"Hello, World!\"\n",
    "print(b[2:5])"
   ]
  },
  {
   "cell_type": "markdown",
   "metadata": {
    "id": "JEPrkvM3E4H5"
   },
   "source": [
    "## Slice From the Start\n",
    "By leaving out the start index, the range will start at the first character:"
   ]
  },
  {
   "cell_type": "markdown",
   "metadata": {
    "id": "tkH4OQEMFGmD"
   },
   "source": [
    "### <span style='color:Blue'>Example </span>\n",
    "\n",
    "Get the characters from the start to position 5 (not included):"
   ]
  },
  {
   "cell_type": "code",
   "execution_count": null,
   "metadata": {
    "id": "5nLeh_3pFK3T"
   },
   "outputs": [],
   "source": [
    "b = \"Hello, World!\"\n",
    "print(b[:5])"
   ]
  },
  {
   "cell_type": "markdown",
   "metadata": {
    "id": "81p3gbr8FM37"
   },
   "source": [
    "## Slice To the End\n",
    "By leaving out the end index, the range will go to the end:"
   ]
  },
  {
   "cell_type": "markdown",
   "metadata": {
    "id": "R650KbhQFSEC"
   },
   "source": [
    "### <span style='color:Blue'>Example </span>\n",
    "\n",
    "Get the characters from position 2, and all the way to the end:"
   ]
  },
  {
   "cell_type": "code",
   "execution_count": null,
   "metadata": {
    "id": "gLrBKLaIFaPB"
   },
   "outputs": [],
   "source": [
    "b = \"Hello, World!\"\n",
    "print(b[2:])"
   ]
  },
  {
   "cell_type": "markdown",
   "metadata": {
    "id": "OSu76KbrFnWb"
   },
   "source": [
    "## Negative Indexing\n",
    "Use negative indexes to start the slice from the end of the string:"
   ]
  },
  {
   "cell_type": "markdown",
   "metadata": {
    "id": "5-Z3LXS4F-Wo"
   },
   "source": [
    "### <span style='color:Blue'>Example </span>\n",
    "\n",
    "Get the characters:\n",
    "\n",
    "From: \"o\" in \"World!\" (position -5)\n",
    "\n",
    "To, but not included: \"d\" in \"World!\" (position -2):"
   ]
  },
  {
   "cell_type": "code",
   "execution_count": null,
   "metadata": {
    "id": "HC4-rsNmF2nT"
   },
   "outputs": [],
   "source": [
    "b = \"Hello, World!\"\n",
    "print(b[-5:-2])"
   ]
  },
  {
   "cell_type": "markdown",
   "metadata": {
    "id": "RblImNarGD5a"
   },
   "source": [
    "## Upper Case\n",
    "### <span style='color:Blue'>Example </span>\n",
    "\n",
    "The upper() method returns the string in upper case:"
   ]
  },
  {
   "cell_type": "code",
   "execution_count": 19,
   "metadata": {
    "id": "_yqbDz3XG1B0"
   },
   "outputs": [
    {
     "name": "stdout",
     "output_type": "stream",
     "text": [
      "HELLO, WORLD!\n"
     ]
    }
   ],
   "source": [
    "a = \"Hello, World!\"\n",
    "print(a.upper())"
   ]
  },
  {
   "cell_type": "markdown",
   "metadata": {
    "id": "-GSutHz0G2mx"
   },
   "source": [
    "## Lower Case\n",
    "### <span style='color:Blue'>Example </span>\n",
    "\n",
    "The lower() method returns the string in lower case:"
   ]
  },
  {
   "cell_type": "code",
   "execution_count": 20,
   "metadata": {
    "id": "ZYDaT8BGG8qa"
   },
   "outputs": [
    {
     "name": "stdout",
     "output_type": "stream",
     "text": [
      "hello, world!\n"
     ]
    }
   ],
   "source": [
    "a = \"Hello, World!\"\n",
    "print(a.lower())"
   ]
  },
  {
   "cell_type": "markdown",
   "metadata": {
    "id": "GSFWZlXkHWuq"
   },
   "source": [
    "## Remove Whitespace\n",
    "Whitespace is the space before and/or after the actual text, and very often you want to remove this space.\n",
    "\n",
    "### Example\n",
    "The strip() method removes any whitespace from the beginning or the end:"
   ]
  },
  {
   "cell_type": "code",
   "execution_count": 21,
   "metadata": {
    "id": "iQBpSvxpHb11"
   },
   "outputs": [
    {
     "name": "stdout",
     "output_type": "stream",
     "text": [
      "Hello, World!\n"
     ]
    }
   ],
   "source": [
    "a = \" Hello, World! \"\n",
    "print(a.strip()) # returns \"Hello, World!\""
   ]
  },
  {
   "cell_type": "markdown",
   "metadata": {
    "id": "FH6tZADkHd4c"
   },
   "source": [
    "## Replace String\n",
    "### Example\n",
    "The replace() method replaces a string with another string:"
   ]
  },
  {
   "cell_type": "code",
   "execution_count": 24,
   "metadata": {
    "id": "WRk2DVIdHvxk"
   },
   "outputs": [
    {
     "name": "stdout",
     "output_type": "stream",
     "text": [
      "Jello, World!\n"
     ]
    }
   ],
   "source": [
    "a = \"Hello, World!\"\n",
    "print(a.replace(\"H\", \"J\"))"
   ]
  },
  {
   "cell_type": "markdown",
   "metadata": {
    "id": "YmVpbyWRHxhT"
   },
   "source": [
    "## Split String\n",
    "The split() method returns a list where the text between the specified separator becomes the list items.\n",
    "\n",
    "### Example\n",
    "The split() method splits the string into substrings if it finds instances of the separator:"
   ]
  },
  {
   "cell_type": "code",
   "execution_count": 31,
   "metadata": {
    "id": "m_vDZI4XH16L"
   },
   "outputs": [
    {
     "name": "stdout",
     "output_type": "stream",
     "text": [
      "['Hello', 'World!']\n"
     ]
    }
   ],
   "source": [
    "a = \"Hello World!\"\n",
    "print(a.split(\" \")) # returns ['Hello', ' World!']"
   ]
  },
  {
   "cell_type": "markdown",
   "metadata": {
    "id": "XyblauO-H3nM"
   },
   "source": [
    "## String Concatenation\n",
    "To concatenate, or combine, two strings you can use the + operator.\n",
    "\n",
    "### Example\n",
    "Merge variable a with variable b into variable c:\n",
    "\n"
   ]
  },
  {
   "cell_type": "code",
   "execution_count": 33,
   "metadata": {
    "id": "J3qp8drGIVZZ"
   },
   "outputs": [
    {
     "name": "stdout",
     "output_type": "stream",
     "text": [
      "Hello World\n"
     ]
    }
   ],
   "source": [
    "a = \"Hello\"\n",
    "b = \"World\"\n",
    "c = a + b\n",
    "print(c)"
   ]
  },
  {
   "cell_type": "code",
   "execution_count": 38,
   "metadata": {},
   "outputs": [
    {
     "name": "stdout",
     "output_type": "stream",
     "text": [
      "hellohello\n"
     ]
    }
   ],
   "source": [
    "a = 2\n",
    "b = \"hello\"\n",
    "\n",
    "c = a * b\n",
    "\n",
    "print(c)"
   ]
  },
  {
   "cell_type": "markdown",
   "metadata": {
    "id": "dt-prXb5IXlb"
   },
   "source": [
    "### Example\n",
    "To add a space between them, add a \" \":"
   ]
  },
  {
   "cell_type": "code",
   "execution_count": 39,
   "metadata": {
    "id": "DSua9q9cIzPS"
   },
   "outputs": [
    {
     "name": "stdout",
     "output_type": "stream",
     "text": [
      "Hello World\n"
     ]
    }
   ],
   "source": [
    "a = \"Hello\"\n",
    "b = \"World\"\n",
    "c = a + \" \" + b\n",
    "print(c)"
   ]
  },
  {
   "cell_type": "markdown",
   "metadata": {
    "id": "cciodMkqI08c"
   },
   "source": [
    "## Escape Characters\n",
    "Other escape characters used in Python:\n",
    "\n",
    "\n",
    "\n",
    "| Code | Result | Output |\n",
    "| --- | --- | --- |\n",
    "| \\\\' | Single Quote | \\' |\n",
    "| \\\\\\ | Backslash | \\\\ |\n",
    "| \\n | New Line |  |\n",
    "| \\r | Carriage Return |  |\n",
    "| \\t | Tab |  |\n",
    "| \\b | Backspace | |\n",
    "| \\f | Form Feed\t| |\n",
    "| \\ooo | Octal value | |\n",
    "| \\xhh | Hex value | |\n"
   ]
  },
  {
   "cell_type": "markdown",
   "metadata": {
    "id": "Z9Jfjg7zN690"
   },
   "source": [
    "## String Methods\n",
    "Python has a set of built-in methods that you can use on strings."
   ]
  },
  {
   "cell_type": "markdown",
   "metadata": {
    "id": "oTjvm8Z2KBaz"
   },
   "source": [
    "| Method | Description |\n",
    "| --- | --- |\n",
    "| capitalize() |\tConverts the first character to upper case |\n",
    "| casefold() |\tConverts string into lower case |\n",
    "| center() |\tReturns a centered string |\n",
    "| count() |\tReturns the number of times a specified value occurs in a string |\n",
    "| encode() |\tReturns an encoded version of the string |\n",
    "| endswith() |\tReturns true if the string ends with the specified value |\n",
    "| expandtabs() |\tSets the tab size of the string |\n",
    "| find() |\tSearches the string for a specified value and returns the position of where it was found |\n",
    "| format() |\tFormats specified values in a string |\n",
    "| format_map() |\tFormats specified values in a string |\n",
    "| index() |\tSearches the string for a specified value and returns the position of where it was found |\n",
    "| isalnum() |\tReturns True if all characters in the string are alphanumeric |\n",
    "| isalpha() |\tReturns True if all characters in the string are in the alphabet |\n",
    "| isascii() |\tReturns True if all characters in the string are ascii characters |\n",
    "| isdecimal() |\tReturns True if all characters in the string are decimals |\n",
    "| isdigit() |\tReturns True if all characters in the string are digits |\n",
    "| isidentifier() |\tReturns True if the string is an identifier |\n",
    "| islower() |\tReturns True if all characters in the string are lower case |\n",
    "| isnumeric() |\tReturns True if all characters in the string are numeric\n",
    "| isprintable() |\tReturns True if all characters in the string are printable\n",
    "| isspace() |\tReturns True if all characters in the string are whitespaces\n",
    "| istitle() |\tReturns True if the string follows the rules of a title\n",
    "| isupper() |\tReturns True if all characters in the string are upper case\n",
    "| join()\t| Joins the elements of an iterable to the end of the string\n",
    "| ljust() |\tReturns a left justified version of the string\n",
    "| lower() |\tConverts a string into lower case\n",
    "| lstrip() |\tReturns a left trim version of the string\n",
    "| maketrans() |\tReturns a translation table to be used in translations\n",
    "| partition() |\tReturns a tuple where the string is parted into three parts\n",
    "| replace() |\tReturns a string where a specified value is replaced with a specified value\n",
    "| rfind()\t| Searches the string for a specified value and returns the last position of where it was found\n",
    "| rindex()\t| Searches the string for a specified value and returns the last position of where it was found\n",
    "| rjust() |\tReturns a right justified version of the string\n",
    "| rpartition() |\tReturns a tuple where the string is parted into three parts\n",
    "| rsplit() |\tSplits the string at the specified separator, and returns a list\n",
    "| rstrip() |\tReturns a right trim version of the string\n",
    "| split() |\tSplits the string at the specified separator, and returns a list\n",
    "| splitlines() |\tSplits the string at line breaks and returns a list\n",
    "| startswith() |\tReturns true if the string starts with the specified value\n",
    "| strip() |\tReturns a trimmed version of the string\n",
    "| swapcase() |\tSwaps cases, lower case becomes upper case and vice versa\n",
    "| title() |\tConverts the first character of each word to upper case\n",
    "| translate() |\tReturns a translated string\n",
    "| upper() |\tConverts a string into upper case\n",
    "| zfill()\t| Fills the string with a specified number of 0 values at the beginning"
   ]
  },
  {
   "cell_type": "markdown",
   "metadata": {
    "id": "su8GtaC-J99L"
   },
   "source": []
  }
 ],
 "metadata": {
  "colab": {
   "provenance": []
  },
  "kernelspec": {
   "display_name": "Python 3 (ipykernel)",
   "language": "python",
   "name": "python3"
  },
  "language_info": {
   "codemirror_mode": {
    "name": "ipython",
    "version": 3
   },
   "file_extension": ".py",
   "mimetype": "text/x-python",
   "name": "python",
   "nbconvert_exporter": "python",
   "pygments_lexer": "ipython3",
   "version": "3.10.9"
  }
 },
 "nbformat": 4,
 "nbformat_minor": 1
}
